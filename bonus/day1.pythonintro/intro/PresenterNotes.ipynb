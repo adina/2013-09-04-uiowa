{
 "metadata": {
  "name": "PresenterNotes"
 }, 
 "nbformat": 2, 
 "worksheets": [
  {
   "cells": [
    {
     "cell_type": "markdown", 
     "source": [
      "# Math", 
      "`+ - * / ** %`"
     ]
    }, 
    {
     "cell_type": "code", 
     "collapsed": false, 
     "input": [
      "2 + 5"
     ], 
     "language": "python", 
     "outputs": [], 
     "prompt_number": 1
    }, 
    {
     "cell_type": "code", 
     "collapsed": false, 
     "input": [
      "2 - 5"
     ], 
     "language": "python", 
     "outputs": [], 
     "prompt_number": 2
    }, 
    {
     "cell_type": "code", 
     "collapsed": false, 
     "input": [
      "4 * 5"
     ], 
     "language": "python", 
     "outputs": [], 
     "prompt_number": 3
    }, 
    {
     "cell_type": "code", 
     "collapsed": false, 
     "input": [
      "6 / 3"
     ], 
     "language": "python", 
     "outputs": [], 
     "prompt_number": 4
    }, 
    {
     "cell_type": "code", 
     "collapsed": false, 
     "input": [
      "4 ** 2"
     ], 
     "language": "python", 
     "outputs": [], 
     "prompt_number": 5
    }, 
    {
     "cell_type": "code", 
     "collapsed": false, 
     "input": [
      "4 ** 0.5"
     ], 
     "language": "python", 
     "outputs": [], 
     "prompt_number": 6
    }, 
    {
     "cell_type": "code", 
     "collapsed": false, 
     "input": [
      "20 % 9"
     ], 
     "language": "python", 
     "outputs": [], 
     "prompt_number": 7
    }, 
    {
     "cell_type": "code", 
     "collapsed": false, 
     "input": [
      "2 + 3 * 4"
     ], 
     "language": "python", 
     "outputs": [], 
     "prompt_number": 8
    }, 
    {
     "cell_type": "code", 
     "collapsed": false, 
     "input": [
      "(2 + 3) * 4"
     ], 
     "language": "python", 
     "outputs": [], 
     "prompt_number": 9
    }, 
    {
     "cell_type": "markdown", 
     "source": [
      "# Exercise", 
      "1. Calculate the mean of the numbers 2, 3, and 10.", 
      "2. Calculate the hypotenuse of a triangle with sides 6 and 8."
     ]
    }, 
    {
     "cell_type": "code", 
     "collapsed": true, 
     "input": [], 
     "language": "python", 
     "outputs": []
    }, 
    {
     "cell_type": "markdown", 
     "source": [
      "# Basic Types", 
      "`int float string bool`"
     ]
    }, 
    {
     "cell_type": "code", 
     "collapsed": false, 
     "input": [
      "4"
     ], 
     "language": "python", 
     "outputs": [], 
     "prompt_number": 10
    }, 
    {
     "cell_type": "code", 
     "collapsed": false, 
     "input": [
      "4.0"
     ], 
     "language": "python", 
     "outputs": [], 
     "prompt_number": 11
    }, 
    {
     "cell_type": "code", 
     "collapsed": false, 
     "input": [
      "'Hello, Software Carpentry!'"
     ], 
     "language": "python", 
     "outputs": [], 
     "prompt_number": 12
    }, 
    {
     "cell_type": "code", 
     "collapsed": false, 
     "input": [
      "True"
     ], 
     "language": "python", 
     "outputs": [], 
     "prompt_number": 13
    }, 
    {
     "cell_type": "code", 
     "collapsed": false, 
     "input": [
      "False"
     ], 
     "language": "python", 
     "outputs": [], 
     "prompt_number": 14
    }, 
    {
     "cell_type": "markdown", 
     "source": [
      "# Variables, Print"
     ]
    }, 
    {
     "cell_type": "code", 
     "collapsed": false, 
     "input": [
      "a = 5", 
      "b = 2", 
      "a + b"
     ], 
     "language": "python", 
     "outputs": [], 
     "prompt_number": 15
    }, 
    {
     "cell_type": "code", 
     "collapsed": false, 
     "input": [
      "c = b", 
      "b = 95 # changing b doesn't change c", 
      "a + c"
     ], 
     "language": "python", 
     "outputs": [], 
     "prompt_number": 16
    }, 
    {
     "cell_type": "code", 
     "collapsed": true, 
     "input": [
      "d = (a + b) * c # doesn't print anything"
     ], 
     "language": "python", 
     "outputs": [], 
     "prompt_number": 17
    }, 
    {
     "cell_type": "code", 
     "collapsed": false, 
     "input": [
      "print a, b, c", 
      "print d"
     ], 
     "language": "python", 
     "outputs": [], 
     "prompt_number": 18
    }, 
    {
     "cell_type": "markdown", 
     "source": [
      "# Containers", 
      "", 
      "## Lists"
     ]
    }, 
    {
     "cell_type": "code", 
     "collapsed": true, 
     "input": [
      "l = ['zero', 1, 2.0, '3', 4, 5.0, 'six']"
     ], 
     "language": "python", 
     "outputs": [], 
     "prompt_number": 19
    }, 
    {
     "cell_type": "code", 
     "collapsed": false, 
     "input": [
      "print l[0], l[1]"
     ], 
     "language": "python", 
     "outputs": [], 
     "prompt_number": 20
    }, 
    {
     "cell_type": "code", 
     "collapsed": false, 
     "input": [
      "len(l)"
     ], 
     "language": "python", 
     "outputs": [], 
     "prompt_number": 21
    }, 
    {
     "cell_type": "code", 
     "collapsed": false, 
     "input": [
      "l[1:4] # doesn't include end index"
     ], 
     "language": "python", 
     "outputs": [], 
     "prompt_number": 22
    }, 
    {
     "cell_type": "code", 
     "collapsed": false, 
     "input": [
      "l[4:]"
     ], 
     "language": "python", 
     "outputs": [], 
     "prompt_number": 23
    }, 
    {
     "cell_type": "code", 
     "collapsed": false, 
     "input": [
      "l[:4] # first 4 things"
     ], 
     "language": "python", 
     "outputs": [], 
     "prompt_number": 40
    }, 
    {
     "cell_type": "code", 
     "collapsed": false, 
     "input": [
      "print l[-1], l[-2], l[-2:]"
     ], 
     "language": "python", 
     "outputs": [], 
     "prompt_number": 42
    }, 
    {
     "cell_type": "code", 
     "collapsed": false, 
     "input": [
      "l[1] = l[1] + 99", 
      "l"
     ], 
     "language": "python", 
     "outputs": [], 
     "prompt_number": 43
    }, 
    {
     "cell_type": "markdown", 
     "source": [
      "# Exercise", 
      "1. Make a list with 5 things in it.", 
      "2. Print the 4th thing in the list.", 
      "3. Print the sublist containing the 3rd, 4th, and 5th things in the list."
     ]
    }, 
    {
     "cell_type": "code", 
     "collapsed": true, 
     "input": [], 
     "language": "python", 
     "outputs": []
    }, 
    {
     "cell_type": "markdown", 
     "source": [
      "## Tuples"
     ]
    }, 
    {
     "cell_type": "code", 
     "collapsed": true, 
     "input": [
      "t = ('zero', 1, 2.0)"
     ], 
     "language": "python", 
     "outputs": [], 
     "prompt_number": 44
    }, 
    {
     "cell_type": "code", 
     "collapsed": false, 
     "input": [
      "t"
     ], 
     "language": "python", 
     "outputs": [], 
     "prompt_number": 45
    }, 
    {
     "cell_type": "code", 
     "collapsed": false, 
     "input": [
      "t[0] = 99"
     ], 
     "language": "python", 
     "outputs": [], 
     "prompt_number": 24
    }, 
    {
     "cell_type": "markdown", 
     "source": [
      "## Dictionaries"
     ]
    }, 
    {
     "cell_type": "code", 
     "collapsed": false, 
     "input": [
      "d = {'first': 'alpha', 'two': 2, 2: 'two'}", 
      "print d", 
      "print d['first'], d[2]"
     ], 
     "language": "python", 
     "outputs": [], 
     "prompt_number": 2
    }, 
    {
     "cell_type": "code", 
     "collapsed": false, 
     "input": [
      "d['first'] = 'uno'", 
      "print d['first']"
     ], 
     "language": "python", 
     "outputs": [], 
     "prompt_number": 3
    }, 
    {
     "cell_type": "code", 
     "collapsed": false, 
     "input": [
      "d['last'] = 'omega'", 
      "print d['last']", 
      "d[3.14159] = 'pi'", 
      "print d[3.14159]"
     ], 
     "language": "python", 
     "outputs": [], 
     "prompt_number": 4
    }, 
    {
     "cell_type": "code", 
     "collapsed": false, 
     "input": [
      "print len(d), d"
     ], 
     "language": "python", 
     "outputs": [], 
     "prompt_number": 6
    }, 
    {
     "cell_type": "markdown", 
     "source": [
      "# Exercise", 
      "1. Make a dictionary and experiment using different types as keys. Can containers be keys?"
     ]
    }, 
    {
     "cell_type": "markdown", 
     "source": [
      "# If statements", 
      "`< > <= >= == !=`"
     ]
    }, 
    {
     "cell_type": "code", 
     "collapsed": true, 
     "input": [
      "x = 5", 
      "if x < 0:", 
      "    print \"x is negative\""
     ], 
     "language": "python", 
     "outputs": [], 
     "prompt_number": 1
    }, 
    {
     "cell_type": "code", 
     "collapsed": false, 
     "input": [
      "x = -5", 
      "if x < 0:", 
      "    print \"x is negative\""
     ], 
     "language": "python", 
     "outputs": [], 
     "prompt_number": 2
    }, 
    {
     "cell_type": "code", 
     "collapsed": false, 
     "input": [
      "x = 5", 
      "if x < 0:", 
      "    print \"x is negative\"", 
      "else:", 
      "    print \"x in non-negative\""
     ], 
     "language": "python", 
     "outputs": [], 
     "prompt_number": 3
    }, 
    {
     "cell_type": "code", 
     "collapsed": false, 
     "input": [
      "x = 5", 
      "if x < 0:", 
      "    print \"x is negative\"", 
      "elif x == 0:", 
      "    print \"x is zero\"", 
      "else:", 
      "    print \"x is positive\""
     ], 
     "language": "python", 
     "outputs": [], 
     "prompt_number": 4
    }, 
    {
     "cell_type": "markdown", 
     "source": [
      "# Exercises", 
      "1. Write an if statement that prints whether x is even or odd"
     ]
    }, 
    {
     "cell_type": "markdown", 
     "source": [
      "# Looping"
     ]
    }, 
    {
     "cell_type": "code", 
     "collapsed": false, 
     "input": [
      "fruits = ['apples', 'oranges', 'pears', 'bananas']", 
      "i = 0", 
      "while i < len(fruits):", 
      "    print fruits[i]", 
      "    i = i + 1"
     ], 
     "language": "python", 
     "outputs": [], 
     "prompt_number": 7
    }, 
    {
     "cell_type": "code", 
     "collapsed": false, 
     "input": [
      "for fruit in fruits:", 
      "    print fruit"
     ], 
     "language": "python", 
     "outputs": [], 
     "prompt_number": 8
    }, 
    {
     "cell_type": "code", 
     "collapsed": false, 
     "input": [
      "# Use range for a range on integers", 
      "for i in range(len(fruits)):", 
      "    print i, fruits[i]"
     ], 
     "language": "python", 
     "outputs": [], 
     "prompt_number": 17
    }, 
    {
     "cell_type": "code", 
     "collapsed": false, 
     "input": [
      "# Use zip to iterate over two lists at once", 
      "fruits = ['apples', 'oranges', 'pears', 'bananas']", 
      "prices = [0.49, 0.99, 1.49, 0.32]", 
      "for fruit, price in zip(fruits, prices):", 
      "    print fruit, \"cost\", price, \"each\"", 
      "    "
     ], 
     "language": "python", 
     "outputs": [], 
     "prompt_number": 8
    }, 
    {
     "cell_type": "code", 
     "collapsed": false, 
     "input": [
      "# Use \"items\" to iterate over a dictionary", 
      "# Note the order is non-deterministic", 
      "prices = {'apples': 0.49, 'oranges': 0.99, 'pears': 1.49, 'bananas': 0.32}", 
      "for fruit, price in prices.items():", 
      "    print fruit, \"cost\", price, \"each\"", 
      "          "
     ], 
     "language": "python", 
     "outputs": [], 
     "prompt_number": 10
    }, 
    {
     "cell_type": "code", 
     "collapsed": false, 
     "input": [
      "# Calculating a sum", 
      "sum = 0", 
      "for x in values:", 
      "    sum = sum + x", 
      "sum"
     ], 
     "language": "python", 
     "outputs": [], 
     "prompt_number": 15
    }, 
    {
     "cell_type": "markdown", 
     "source": [
      "# Exercises", 
      "1. Using a loop, calculate the factorial of 42 (the product of all integers up to and including 42)."
     ]
    }, 
    {
     "cell_type": "markdown", 
     "source": [
      "# Functions"
     ]
    }, 
    {
     "cell_type": "code", 
     "collapsed": true, 
     "input": [
      "def square(x):", 
      "    return x * x"
     ], 
     "language": "python", 
     "outputs": [], 
     "prompt_number": 17
    }, 
    {
     "cell_type": "code", 
     "collapsed": false, 
     "input": [
      "print square(2), square(square(2))"
     ], 
     "language": "python", 
     "outputs": [], 
     "prompt_number": 32
    }, 
    {
     "cell_type": "code", 
     "collapsed": true, 
     "input": [
      "def hello(time, name):", 
      "    \"\"\"Print a nice message. Time and name should both be strings.", 
      "    ", 
      "    Example: hello('morning', 'Software Carpentry')", 
      "    \"\"\"", 
      "    print 'Good ' + time + ', ' + name + '!'"
     ], 
     "language": "python", 
     "outputs": [], 
     "prompt_number": 22
    }, 
    {
     "cell_type": "code", 
     "collapsed": false, 
     "input": [
      "hello('afternoon', 'Software Carpentry')"
     ], 
     "language": "python", 
     "outputs": [], 
     "prompt_number": 24
    }, 
    {
     "cell_type": "markdown", 
     "source": [
      "# Exercises", 
      "1. Create a function that returns the factorial of a given number"
     ]
    }, 
    {
     "cell_type": "markdown", 
     "source": [
      "# Reading Files"
     ]
    }, 
    {
     "cell_type": "code", 
     "collapsed": true, 
     "input": [
      "f = open('animals.txt', 'r')"
     ], 
     "language": "python", 
     "outputs": [], 
     "prompt_number": 26
    }, 
    {
     "cell_type": "code", 
     "collapsed": true, 
     "input": [
      "# dir(f)", 
      "# help(f)"
     ], 
     "language": "python", 
     "outputs": [], 
     "prompt_number": 31
    }, 
    {
     "cell_type": "code", 
     "collapsed": false, 
     "input": [
      "f.seek(0)", 
      "for line in f:", 
      "    print line"
     ], 
     "language": "python", 
     "outputs": [], 
     "prompt_number": 41
    }, 
    {
     "cell_type": "code", 
     "collapsed": false, 
     "input": [
      "'2011-06-22 09:23 Moose 2'.split() # numbers come out as strings"
     ], 
     "language": "python", 
     "outputs": [], 
     "prompt_number": 39
    }, 
    {
     "cell_type": "code", 
     "collapsed": false, 
     "input": [
      "print int('2'), float('2'), float('3.14159')"
     ], 
     "language": "python", 
     "outputs": [], 
     "prompt_number": 46
    }, 
    {
     "cell_type": "code", 
     "collapsed": true, 
     "input": [
      "f.seek(0)", 
      "date = []", 
      "time = []", 
      "animal = []", 
      "number = []", 
      "for line in f:", 
      "    d, t, a, n = line.split()", 
      "    date.append(d)", 
      "    time.append(t)", 
      "    animal.append(a)", 
      "    number.append(int(n))"
     ], 
     "language": "python", 
     "outputs": [], 
     "prompt_number": 42
    }, 
    {
     "cell_type": "code", 
     "collapsed": false, 
     "input": [
      "date"
     ], 
     "language": "python", 
     "outputs": [], 
     "prompt_number": 43
    }, 
    {
     "cell_type": "code", 
     "collapsed": false, 
     "input": [
      "time"
     ], 
     "language": "python", 
     "outputs": [], 
     "prompt_number": 44
    }, 
    {
     "cell_type": "code", 
     "collapsed": false, 
     "input": [
      "number"
     ], 
     "language": "python", 
     "outputs": [], 
     "prompt_number": 45
    }, 
    {
     "cell_type": "markdown", 
     "source": [
      "# Exercise", 
      "1. Read the file 'big_animals.txt' and print each line on which more than 10 moose were sighted.", 
      "2. Turn the code for #1 into a function and use it on the files 'merida_animals.txt' and 'fergus_animals.txt'."
     ]
    }, 
    {
     "cell_type": "code", 
     "collapsed": true, 
     "input": [], 
     "language": "python", 
     "outputs": []
    }
   ]
  }
 ]
}