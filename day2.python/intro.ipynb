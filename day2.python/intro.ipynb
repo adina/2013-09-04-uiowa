{
 "metadata": {
  "name": "intro"
 },
 "nbformat": 3,
 "nbformat_minor": 0,
 "worksheets": [
  {
   "cells": [
    {
     "cell_type": "markdown",
     "metadata": {},
     "source": [
      "#### Tutorial : Understanding the notebook\n",
      "* Rename your notebook to **tutorial**\n",
      "* Run the Cell below, with **Control+Enter**"
     ]
    },
    {
     "cell_type": "code",
     "collapsed": false,
     "input": [
      "hist(randn(10000),bins=33);"
     ],
     "language": "python",
     "metadata": {},
     "outputs": []
    },
    {
     "cell_type": "markdown",
     "metadata": {},
     "source": [
      "#### 1) Displaying\n",
      "* Understand what erros look like\n",
      "* Use the **print()** function to print out your name. (Hint: text in quotes; single, or double)\n",
      "* Use the **print()** function to print the result of some simple math.\n",
      "* What math works as you expect? What does not? Why?\n",
      "* **Bonus**: What does the '''triple single''' quote do?\n",
      "* **Bonus**: How do you perform non-integer math with whole numbers? (Hint: Python uses commonality to determine math)"
     ]
    },
    {
     "cell_type": "code",
     "collapsed": false,
     "input": [
      "print("
     ],
     "language": "python",
     "metadata": {},
     "outputs": [
      {
       "ename": "SyntaxError",
       "evalue": "unexpected EOF while parsing (<ipython-input-4-502b96ebbb65>, line 1)",
       "output_type": "pyerr",
       "traceback": [
        "\u001b[0;36m  File \u001b[0;32m\"<ipython-input-4-502b96ebbb65>\"\u001b[0;36m, line \u001b[0;32m1\u001b[0m\n\u001b[0;31m    print(\u001b[0m\n\u001b[0m          ^\u001b[0m\n\u001b[0;31mSyntaxError\u001b[0m\u001b[0;31m:\u001b[0m unexpected EOF while parsing\n"
       ]
      }
     ],
     "prompt_number": 4
    },
    {
     "cell_type": "markdown",
     "metadata": {},
     "source": [
      "#### 2) Variables\n",
      "* Add a second variable with your name assigned to it\n",
      "* print the the contents of both variables using one **print()** statement (Hint: some math operators apply to strings too)\n",
      "* **Bonus**: How many ways can you find to print multiple variables using the **print()** statement?\n",
      "* **Bonus**: Which math operators apply to strings and how?"
     ]
    },
    {
     "cell_type": "code",
     "collapsed": false,
     "input": [
      "prefix=\"Python-User \""
     ],
     "language": "python",
     "metadata": {},
     "outputs": [
      {
       "output_type": "stream",
       "stream": "stdout",
       "text": [
        "3\n"
       ]
      }
     ],
     "prompt_number": 9
    },
    {
     "cell_type": "markdown",
     "metadata": {},
     "source": [
      "#### 3) Lists\n",
      "* Print the third element from the numbers list using **print()**\n",
      "* Print the last element of the numbers list (Hint: what does a negative index do?)\n",
      "* Print the first letter of the filename\n",
      "* Print the last 3 letters of the filename using the slicing operator **:**"
     ]
    },
    {
     "cell_type": "code",
     "collapsed": false,
     "input": [
      "numbers = [10, 11, 12, 13]\n",
      "filename = \"filename.txt\""
     ],
     "language": "python",
     "metadata": {},
     "outputs": [],
     "prompt_number": 43
    },
    {
     "cell_type": "markdown",
     "metadata": {},
     "source": [
      "#### 4) Logic Operators\n",
      "<pre>\n",
      "=    assignment\n",
      "is   equality test\n",
      "==   same as is\n",
      "<    less than test\n",
      "<=   less than or equal to test\n",
      "and  both must be true\n",
      "&&   same as and\n",
      "or   either must be true\n",
      "||   same as or\n",
      "not  negation\n",
      "!=   same as not\n",
      "</pre>\n",
      "<pre>\n",
      "Code in the cell below should show True or False depending if the test evaluates to True or False.\n",
      "</pre>\n",
      "* What's wrong with the below code? Fix it!\n",
      "* **Bonus**: Rewrite the if statement to use more natural english."
     ]
    },
    {
     "cell_type": "code",
     "collapsed": false,
     "input": [
      "experiment = 31\n",
      "print(\"experiment is 31?: \"+str(experiment = 31))"
     ],
     "language": "python",
     "metadata": {},
     "outputs": [
      {
       "ename": "TypeError",
       "evalue": "'experiment' is an invalid keyword argument for this function",
       "output_type": "pyerr",
       "traceback": [
        "\u001b[0;31m---------------------------------------------------------------------------\u001b[0m\n\u001b[0;31mTypeError\u001b[0m                                 Traceback (most recent call last)",
        "\u001b[0;32m<ipython-input-21-32513212b3af>\u001b[0m in \u001b[0;36m<module>\u001b[0;34m()\u001b[0m\n\u001b[1;32m      1\u001b[0m \u001b[0mexperiment\u001b[0m \u001b[0;34m=\u001b[0m \u001b[0;36m31\u001b[0m\u001b[0;34m\u001b[0m\u001b[0m\n\u001b[0;32m----> 2\u001b[0;31m \u001b[0;32mprint\u001b[0m\u001b[0;34m(\u001b[0m\u001b[0;34m\"experiment is 31?: \"\u001b[0m\u001b[0;34m+\u001b[0m\u001b[0mstr\u001b[0m\u001b[0;34m(\u001b[0m\u001b[0mexperiment\u001b[0m \u001b[0;34m=\u001b[0m \u001b[0;36m31\u001b[0m\u001b[0;34m)\u001b[0m\u001b[0;34m)\u001b[0m\u001b[0;34m\u001b[0m\u001b[0m\n\u001b[0m",
        "\u001b[0;31mTypeError\u001b[0m: 'experiment' is an invalid keyword argument for this function"
       ]
      }
     ],
     "prompt_number": 21
    },
    {
     "cell_type": "markdown",
     "metadata": {},
     "source": [
      "#### 5) Iteration (part 1)\n",
      "<pre>\n",
      "2 methods of iteration:\n",
      "    While condition (iterates while condition is true)\n",
      "    For item in set (iterates over a limited set)\n",
      "</pre>\n",
      "* Break IPython Notebook. Why did it break? How can we tell? How can we fix it? (Hint, it's a kernel problem)\n",
      "* Fix the broken code to iterate properly (Hint: you will need to add 1 line of code in the loop)\n",
      "* Add a loop to process every even day beginning with 2 and no more than 10\n",
      "* **Bonus**: Use the \"Insert Cell Below\" Notebook button or menu to put your loop in its own cell"
     ]
    },
    {
     "cell_type": "code",
     "collapsed": false,
     "input": [
      "numdays=0\n",
      "numdays=numdays+5\n",
      "\n",
      "print('numdays is '+str(numdays))\n",
      "print('begin iteration')\n",
      "      \n",
      "while numdays > 0:\n",
      "    print('processing day '+str(numdays))\n",
      "    # we'll need more code here\n",
      "    \n",
      "print('end iteration')\n",
      "print('numdays is now '+str(numdays))"
     ],
     "language": "python",
     "metadata": {},
     "outputs": [
      {
       "ename": "SyntaxError",
       "evalue": "EOL while scanning string literal (<ipython-input-26-7a4e9c0732b3>, line 9)",
       "output_type": "pyerr",
       "traceback": [
        "\u001b[0;36m  File \u001b[0;32m\"<ipython-input-26-7a4e9c0732b3>\"\u001b[0;36m, line \u001b[0;32m9\u001b[0m\n\u001b[0;31m    print('begin iteration)\u001b[0m\n\u001b[0m                          ^\u001b[0m\n\u001b[0;31mSyntaxError\u001b[0m\u001b[0;31m:\u001b[0m EOL while scanning string literal\n"
       ]
      }
     ],
     "prompt_number": 26
    },
    {
     "cell_type": "markdown",
     "metadata": {},
     "source": [
      "#### 5.2) For Loop Example\n",
      "* Change the loop to use a variable instead of directly using a list\n",
      "* Change the loop to skip the first item in the list\n",
      "* Change the loop to only cover the last item in the list. Why doesn't this work?"
     ]
    },
    {
     "cell_type": "code",
     "collapsed": false,
     "input": [
      "# sample for loop\n",
      "print('before loop')\n",
      "for myNamedThing in [1,2,3]:\n",
      "    print(myNamedThing)\n",
      "print('after loop')"
     ],
     "language": "python",
     "metadata": {},
     "outputs": [
      {
       "output_type": "stream",
       "stream": "stdout",
       "text": [
        "before loop\n",
        "1\n",
        "2\n",
        "3\n",
        "after loop\n"
       ]
      }
     ],
     "prompt_number": 36
    },
    {
     "cell_type": "markdown",
     "metadata": {},
     "source": [
      "#### 6) Iteration (part 2)\n",
      "<pre>\n",
      "Below, we have a _List_ of integers representing the days we want processed, called dayrange\n",
      "</pre>\n",
      "* Write a for loop to print 'processing day #' as in the While loop example\n",
      "* Change the use of the **range()** function to only include odd number days\n",
      "* Use the **reverse()** method of the list. Is it predictable?\n",
      "* Use the **sort()** method of the list to undo the **reverse()** method"
     ]
    },
    {
     "cell_type": "code",
     "collapsed": false,
     "input": [
      "numdays=0\n",
      "numdays=numdays+5\n",
      "dayrange=range(numdays)\n",
      "\n",
      "print('days we will iterate through:')\n",
      "print( dayrange )\n",
      "\n"
     ],
     "language": "python",
     "metadata": {},
     "outputs": [
      {
       "output_type": "stream",
       "stream": "stdout",
       "text": [
        "days we will iterate through:\n",
        "[0, 1, 2, 3, 4]\n"
       ]
      }
     ],
     "prompt_number": 47
    },
    {
     "cell_type": "markdown",
     "metadata": {},
     "source": [
      "### Group Exercise: Nasty Errors!\n",
      "* What are the errors in the code below? (Hint: What happens when you press TAB key in a code cell of this Notebook? What if a friend gave you a file or copied code?)\n",
      "* Fix it!"
     ]
    },
    {
     "cell_type": "code",
     "collapsed": false,
     "input": [
      "numdays=5\n",
      "while numdays < 0\n",
      "    print('processing day '+str(numdays))\n",
      "\tnumdays = numdays-1"
     ],
     "language": "python",
     "metadata": {},
     "outputs": [
      {
       "ename": "IndentationError",
       "evalue": "unexpected indent (<ipython-input-48-e43202d6275c>, line 4)",
       "output_type": "pyerr",
       "traceback": [
        "\u001b[0;31mIndentationError\u001b[0m\u001b[0;31m:\u001b[0m unexpected indent\n"
       ]
      }
     ],
     "prompt_number": 48
    },
    {
     "cell_type": "markdown",
     "metadata": {},
     "source": [
      "#### 6) Nested Loops\n",
      "* Nest this while loop inside a for loop and make it loop 3 times (Hint: Mind the whitespace)"
     ]
    },
    {
     "cell_type": "code",
     "collapsed": false,
     "input": [
      "numdays=4\n",
      "while numdays > 0:\n",
      "    print('processing day '+str(numdays))"
     ],
     "language": "python",
     "metadata": {},
     "outputs": []
    },
    {
     "cell_type": "markdown",
     "metadata": {},
     "source": [
      "### Group Exercise: Count the Even Numbers\n",
      "* Write code to count, then print out the quantity of even numbers up to 20\n",
      "* Now do it only using the \"%\" operator to check for divisibility and keep a counter."
     ]
    },
    {
     "cell_type": "code",
     "collapsed": false,
     "input": [],
     "language": "python",
     "metadata": {},
     "outputs": []
    },
    {
     "cell_type": "markdown",
     "metadata": {},
     "source": [
      "### Group Exercise: Count the Prime Numbers\n",
      "* Write code to count and print the quantity of prime numbers up to 100 (Hint: this will require a nested loop)"
     ]
    },
    {
     "cell_type": "code",
     "collapsed": false,
     "input": [],
     "language": "python",
     "metadata": {},
     "outputs": []
    },
    {
     "cell_type": "markdown",
     "metadata": {},
     "source": [
      "#### 7) Functions\n",
      "* Call this function\n",
      "* Modify it to accept a parameter\n",
      "* Call it in a loop"
     ]
    },
    {
     "cell_type": "code",
     "collapsed": false,
     "input": [
      "def printSquare():\n",
      "    print(2**2)\n",
      "    \n"
     ],
     "language": "python",
     "metadata": {},
     "outputs": []
    }
   ],
   "metadata": {}
  }
 ]
}